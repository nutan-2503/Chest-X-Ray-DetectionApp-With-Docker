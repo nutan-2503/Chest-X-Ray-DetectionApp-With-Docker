{
 "cells": [
  {
   "cell_type": "code",
   "execution_count": 1,
   "metadata": {},
   "outputs": [],
   "source": [
    "import pandas as pd\n",
    "import numpy as np\n",
    "import os\n",
    "import glob\n",
    "import cv2\n",
    "from keras.preprocessing import image\n",
    "from PIL import Image"
   ]
  },
  {
   "cell_type": "code",
   "execution_count": 2,
   "metadata": {},
   "outputs": [
    {
     "name": "stdout",
     "output_type": "stream",
     "text": [
      "1300 1781 824 120\n"
     ]
    }
   ],
   "source": [
    "# Getting the original number of images in each category\n",
    "train_BP = len(glob.glob(\"TrainData/BacterialPneumonia/*\"))\n",
    "train_CV = len(glob.glob(\"TrainData/COVID-19/*.*\"))\n",
    "train_N = len(glob.glob(\"TrainData/Normal/*.*\"))\n",
    "train_VP = len(glob.glob(\"TrainData/ViralPneumonia/*.*\"))\n",
    "print(train_BP, train_N, train_VP, train_CV)"
   ]
  },
  {
   "cell_type": "markdown",
   "metadata": {},
   "source": [
    "### Some augmentation techniques to balance each set of images"
   ]
  },
  {
   "cell_type": "code",
   "execution_count": 3,
   "metadata": {},
   "outputs": [],
   "source": [
    "def flip_and_rotate_img(image):\n",
    "    augmented_images = []\n",
    "\n",
    "    # Appending image itself\n",
    "    augmented_images.append(image)\n",
    "\n",
    "    # Rotating image to 90, 180, 270 and appending them\n",
    "    rows,cols = image.shape[:2]\n",
    "    for i_angle in [90, 180, 270]:\n",
    "        M = cv2.getRotationMatrix2D((cols/2, rows/2), i_angle, 1)\n",
    "        dst = cv2.warpAffine(image, M, (cols, rows))  \n",
    "        augmented_images.append(dst)\n",
    "\n",
    "    # First flipping and then rotating the image to 90, 180, 270 and appending them\n",
    "    flipped_image = cv2.flip(image, 1)\n",
    "    augmented_images.append(flipped_image)\n",
    "\n",
    "    rows,cols = flipped_image.shape[:2]\n",
    "    for i_angle in [90, 180, 270]:\n",
    "        M = cv2.getRotationMatrix2D((cols/2, rows/2), i_angle, 1)\n",
    "        dst = cv2.warpAffine(flipped_image, M, (cols, rows))  \n",
    "        augmented_images.append(dst)\n",
    "    return augmented_images"
   ]
  },
  {
   "cell_type": "code",
   "execution_count": 4,
   "metadata": {},
   "outputs": [],
   "source": [
    "def flip_and_rotate_img_saving_to_dir(image_pixels, image_name = \"00001-\", output_dir = \"./folder_to_be_deleted/\"):\n",
    "    \n",
    "    # Rotating image to 90, 180, 270 and appending them\n",
    "    rows,cols = image_pixels.shape[:2]\n",
    "    for i_angle in [90, 180, 270]:\n",
    "        M = cv2.getRotationMatrix2D((cols/2, rows/2), i_angle, 1)\n",
    "        dst = cv2.warpAffine(image_pixels, M, (cols, rows))  \n",
    "        # Converting numpy array to image pil\n",
    "        image = Image.fromarray(dst.astype('uint8'), 'RGB')\n",
    "        image.save(output_dir + image_name + \"_\" + str(i_angle) + \"degree\" + \".jpg\")\n",
    "\n",
    "    # First flipping and then rotating the image to 90, 180, 270 and appending them\n",
    "    flipped_image = cv2.flip(image_pixels, 1)\n",
    "    # Converting numpy array to image pil\n",
    "    image = Image.fromarray(flipped_image.astype('uint8'), 'RGB')\n",
    "    image.save(output_dir + image_name + \"_\" + \"flipped.jpg\")\n",
    "\n",
    "    rows,cols = flipped_image.shape[:2]\n",
    "    for i_angle in [90, 180, 270]:\n",
    "        M = cv2.getRotationMatrix2D((cols/2, rows/2), i_angle, 1)\n",
    "        dst = cv2.warpAffine(flipped_image, M, (cols, rows))  \n",
    "        # Converting numpy array to image pil\n",
    "        image = Image.fromarray(dst.astype('uint8'), 'RGB')\n",
    "        image.save(output_dir + image_name + \"_\" + \"flipped\" + \"_\" + str(i_angle) +\"degree\" + \".jpg\")"
   ]
  },
  {
   "cell_type": "code",
   "execution_count": 5,
   "metadata": {},
   "outputs": [],
   "source": [
    "def augmenting_image(path, output_dir):\n",
    "    # Loading the image\n",
    "    img = image.load_img(path, target_size=(512, 512))\n",
    "    # Converting the image to array\n",
    "    x = image.img_to_array(img)\n",
    "    # Getting the image name\n",
    "    image_name = path.split('/')[-1].split('.')[0]\n",
    "    # Augmenting the image\n",
    "    flip_and_rotate_img_saving_to_dir(x, image_name, output_dir)"
   ]
  },
  {
   "cell_type": "code",
   "execution_count": 6,
   "metadata": {},
   "outputs": [],
   "source": [
    "for i_image in os.listdir(\"./TrainData/COVID-19\"):\n",
    "    im = Image.open(\"./TrainData/COVID-19/\"+i_image)\n",
    "    img = im.rotate(15)\n",
    "    img.save(\"./TrainData/COVID-19/\" + \"rotated15_\" + i_image)"
   ]
  },
  {
   "cell_type": "code",
   "execution_count": 7,
   "metadata": {},
   "outputs": [
    {
     "data": {
      "text/plain": [
       "240"
      ]
     },
     "execution_count": 7,
     "metadata": {},
     "output_type": "execute_result"
    }
   ],
   "source": [
    "len(glob.glob(\"TrainData/COVID-19/*.*\"))"
   ]
  },
  {
   "cell_type": "code",
   "execution_count": 8,
   "metadata": {},
   "outputs": [],
   "source": [
    "# Augmenting the \"COVID-19\" Images\n",
    "for i_img in os.listdir(\"./TrainData/COVID-19\"):\n",
    "    augmenting_image(path=\"./TrainData/COVID-19/\"+i_img, output_dir=\"./Dataset/COVID-19/\")"
   ]
  },
  {
   "cell_type": "code",
   "execution_count": 16,
   "metadata": {},
   "outputs": [],
   "source": [
    "#Augmenting the ViralPneumonia\" Images\n",
    "for i_image in os.listdir(\"./Dataset/ViralPneumonia\"):\n",
    "    im = Image.open(\"./Dataset/ViralPneumonia/\"+i_image)\n",
    "    img = im.rotate(15)\"\n",
    "    img.save(\"./Dataset/ViralPneumonia/\" + \"rotated15_\" + i_image)"
   ]
  },
  {
   "cell_type": "code",
   "execution_count": 19,
   "metadata": {},
   "outputs": [
    {
     "name": "stdout",
     "output_type": "stream",
     "text": [
      "1680 1781 1300 1648\n"
     ]
    }
   ],
   "source": [
    "# Balanced dataset after applying some data augmnetation techniques\n",
    "\n",
    "CV=len(glob.glob(\"./Dataset/COVID-19/*\"))\n",
    "No=len(glob.glob(\"./Dataset/Normal/*\"))\n",
    "BP=len(glob.glob(\"./Dataset/BacterialPneumonia/*\"))\n",
    "VP=len(glob.glob(\"./Dataset/ViralPneumonia/*\"))\n",
    "print(CV, No, BP, VP)"
   ]
  },
  {
   "cell_type": "markdown",
   "metadata": {},
   "source": [
    "### Prepare test data in csv file"
   ]
  },
  {
   "cell_type": "code",
   "execution_count": 22,
   "metadata": {},
   "outputs": [
    {
     "data": {
      "text/plain": [
       "'BacterialPneumonia/0.jpeg'"
      ]
     },
     "execution_count": 22,
     "metadata": {},
     "output_type": "execute_result"
    }
   ],
   "source": [
    "# Appending data in a list\n",
    "images = []\n",
    "for folder in os.listdir(\"./Dataset\"):\n",
    "    for img in os.listdir(\"./Dataset/\"+folder):\n",
    "        images.append(folder+\"/\"+img)"
   ]
  },
  {
   "cell_type": "code",
   "execution_count": 23,
   "metadata": {},
   "outputs": [
    {
     "data": {
      "text/plain": [
       "6409"
      ]
     },
     "execution_count": 23,
     "metadata": {},
     "output_type": "execute_result"
    }
   ],
   "source": [
    "len(images)"
   ]
  },
  {
   "cell_type": "code",
   "execution_count": 26,
   "metadata": {},
   "outputs": [
    {
     "data": {
      "text/html": [
       "<div>\n",
       "<style scoped>\n",
       "    .dataframe tbody tr th:only-of-type {\n",
       "        vertical-align: middle;\n",
       "    }\n",
       "\n",
       "    .dataframe tbody tr th {\n",
       "        vertical-align: top;\n",
       "    }\n",
       "\n",
       "    .dataframe thead th {\n",
       "        text-align: right;\n",
       "    }\n",
       "</style>\n",
       "<table border=\"1\" class=\"dataframe\">\n",
       "  <thead>\n",
       "    <tr style=\"text-align: right;\">\n",
       "      <th></th>\n",
       "      <th>Images</th>\n",
       "      <th>Normal</th>\n",
       "      <th>COVID-19</th>\n",
       "      <th>BacterialPneumonia</th>\n",
       "      <th>ViralPneumonia</th>\n",
       "    </tr>\n",
       "  </thead>\n",
       "  <tbody>\n",
       "    <tr>\n",
       "      <th>0</th>\n",
       "      <td>BacterialPneumonia/0.jpeg</td>\n",
       "      <td>NaN</td>\n",
       "      <td>NaN</td>\n",
       "      <td>NaN</td>\n",
       "      <td>NaN</td>\n",
       "    </tr>\n",
       "    <tr>\n",
       "      <th>1</th>\n",
       "      <td>BacterialPneumonia/1.jpeg</td>\n",
       "      <td>NaN</td>\n",
       "      <td>NaN</td>\n",
       "      <td>NaN</td>\n",
       "      <td>NaN</td>\n",
       "    </tr>\n",
       "    <tr>\n",
       "      <th>2</th>\n",
       "      <td>BacterialPneumonia/10.jpeg</td>\n",
       "      <td>NaN</td>\n",
       "      <td>NaN</td>\n",
       "      <td>NaN</td>\n",
       "      <td>NaN</td>\n",
       "    </tr>\n",
       "    <tr>\n",
       "      <th>3</th>\n",
       "      <td>BacterialPneumonia/100.jpeg</td>\n",
       "      <td>NaN</td>\n",
       "      <td>NaN</td>\n",
       "      <td>NaN</td>\n",
       "      <td>NaN</td>\n",
       "    </tr>\n",
       "    <tr>\n",
       "      <th>4</th>\n",
       "      <td>BacterialPneumonia/101.jpeg</td>\n",
       "      <td>NaN</td>\n",
       "      <td>NaN</td>\n",
       "      <td>NaN</td>\n",
       "      <td>NaN</td>\n",
       "    </tr>\n",
       "  </tbody>\n",
       "</table>\n",
       "</div>"
      ],
      "text/plain": [
       "                        Images  Normal  COVID-19  BacterialPneumonia  \\\n",
       "0    BacterialPneumonia/0.jpeg     NaN       NaN                 NaN   \n",
       "1    BacterialPneumonia/1.jpeg     NaN       NaN                 NaN   \n",
       "2   BacterialPneumonia/10.jpeg     NaN       NaN                 NaN   \n",
       "3  BacterialPneumonia/100.jpeg     NaN       NaN                 NaN   \n",
       "4  BacterialPneumonia/101.jpeg     NaN       NaN                 NaN   \n",
       "\n",
       "   ViralPneumonia  \n",
       "0             NaN  \n",
       "1             NaN  \n",
       "2             NaN  \n",
       "3             NaN  \n",
       "4             NaN  "
      ]
     },
     "execution_count": 26,
     "metadata": {},
     "output_type": "execute_result"
    }
   ],
   "source": [
    "data = pd.DataFrame({\"Images\": images, \"Normal\": np.nan, \"COVID-19\": np.nan, \"BacterialPneumonia\": np.nan, \n",
    "                     \"ViralPneumonia\": np.nan})\n",
    "data.head()"
   ]
  },
  {
   "cell_type": "code",
   "execution_count": 33,
   "metadata": {},
   "outputs": [
    {
     "name": "stderr",
     "output_type": "stream",
     "text": [
      "C:\\Users\\nutan\\anaconda3\\envs\\TensorFlow-GPU\\lib\\site-packages\\ipykernel_launcher.py:3: SettingWithCopyWarning: \n",
      "A value is trying to be set on a copy of a slice from a DataFrame\n",
      "\n",
      "See the caveats in the documentation: https://pandas.pydata.org/pandas-docs/stable/user_guide/indexing.html#returning-a-view-versus-a-copy\n",
      "  This is separate from the ipykernel package so we can avoid doing imports until\n"
     ]
    }
   ],
   "source": [
    "for i in range(len(data['Images'])):\n",
    "    category = data['Images'][i].split('/')[0]\n",
    "    data[category][i] = 1.0"
   ]
  },
  {
   "cell_type": "code",
   "execution_count": 36,
   "metadata": {},
   "outputs": [
    {
     "data": {
      "text/html": [
       "<div>\n",
       "<style scoped>\n",
       "    .dataframe tbody tr th:only-of-type {\n",
       "        vertical-align: middle;\n",
       "    }\n",
       "\n",
       "    .dataframe tbody tr th {\n",
       "        vertical-align: top;\n",
       "    }\n",
       "\n",
       "    .dataframe thead th {\n",
       "        text-align: right;\n",
       "    }\n",
       "</style>\n",
       "<table border=\"1\" class=\"dataframe\">\n",
       "  <thead>\n",
       "    <tr style=\"text-align: right;\">\n",
       "      <th></th>\n",
       "      <th>Images</th>\n",
       "      <th>Normal</th>\n",
       "      <th>COVID-19</th>\n",
       "      <th>BacterialPneumonia</th>\n",
       "      <th>ViralPneumonia</th>\n",
       "    </tr>\n",
       "  </thead>\n",
       "  <tbody>\n",
       "    <tr>\n",
       "      <th>0</th>\n",
       "      <td>BacterialPneumonia/0.jpeg</td>\n",
       "      <td>0.0</td>\n",
       "      <td>0.0</td>\n",
       "      <td>1.0</td>\n",
       "      <td>0.0</td>\n",
       "    </tr>\n",
       "    <tr>\n",
       "      <th>1</th>\n",
       "      <td>BacterialPneumonia/1.jpeg</td>\n",
       "      <td>0.0</td>\n",
       "      <td>0.0</td>\n",
       "      <td>1.0</td>\n",
       "      <td>0.0</td>\n",
       "    </tr>\n",
       "    <tr>\n",
       "      <th>2</th>\n",
       "      <td>BacterialPneumonia/10.jpeg</td>\n",
       "      <td>0.0</td>\n",
       "      <td>0.0</td>\n",
       "      <td>1.0</td>\n",
       "      <td>0.0</td>\n",
       "    </tr>\n",
       "    <tr>\n",
       "      <th>3</th>\n",
       "      <td>BacterialPneumonia/100.jpeg</td>\n",
       "      <td>0.0</td>\n",
       "      <td>0.0</td>\n",
       "      <td>1.0</td>\n",
       "      <td>0.0</td>\n",
       "    </tr>\n",
       "    <tr>\n",
       "      <th>4</th>\n",
       "      <td>BacterialPneumonia/101.jpeg</td>\n",
       "      <td>0.0</td>\n",
       "      <td>0.0</td>\n",
       "      <td>1.0</td>\n",
       "      <td>0.0</td>\n",
       "    </tr>\n",
       "    <tr>\n",
       "      <th>...</th>\n",
       "      <td>...</td>\n",
       "      <td>...</td>\n",
       "      <td>...</td>\n",
       "      <td>...</td>\n",
       "      <td>...</td>\n",
       "    </tr>\n",
       "    <tr>\n",
       "      <th>6404</th>\n",
       "      <td>ViralPneumonia/_96_3583409.jpeg</td>\n",
       "      <td>0.0</td>\n",
       "      <td>0.0</td>\n",
       "      <td>0.0</td>\n",
       "      <td>1.0</td>\n",
       "    </tr>\n",
       "    <tr>\n",
       "      <th>6405</th>\n",
       "      <td>ViralPneumonia/_97_6809245.jpeg</td>\n",
       "      <td>0.0</td>\n",
       "      <td>0.0</td>\n",
       "      <td>0.0</td>\n",
       "      <td>1.0</td>\n",
       "    </tr>\n",
       "    <tr>\n",
       "      <th>6406</th>\n",
       "      <td>ViralPneumonia/_98_7527018.jpeg</td>\n",
       "      <td>0.0</td>\n",
       "      <td>0.0</td>\n",
       "      <td>0.0</td>\n",
       "      <td>1.0</td>\n",
       "    </tr>\n",
       "    <tr>\n",
       "      <th>6407</th>\n",
       "      <td>ViralPneumonia/_99_1223038.jpeg</td>\n",
       "      <td>0.0</td>\n",
       "      <td>0.0</td>\n",
       "      <td>0.0</td>\n",
       "      <td>1.0</td>\n",
       "    </tr>\n",
       "    <tr>\n",
       "      <th>6408</th>\n",
       "      <td>ViralPneumonia/_9_2549336.jpeg</td>\n",
       "      <td>0.0</td>\n",
       "      <td>0.0</td>\n",
       "      <td>0.0</td>\n",
       "      <td>1.0</td>\n",
       "    </tr>\n",
       "  </tbody>\n",
       "</table>\n",
       "<p>6409 rows × 5 columns</p>\n",
       "</div>"
      ],
      "text/plain": [
       "                               Images  Normal  COVID-19  BacterialPneumonia  \\\n",
       "0           BacterialPneumonia/0.jpeg     0.0       0.0                 1.0   \n",
       "1           BacterialPneumonia/1.jpeg     0.0       0.0                 1.0   \n",
       "2          BacterialPneumonia/10.jpeg     0.0       0.0                 1.0   \n",
       "3         BacterialPneumonia/100.jpeg     0.0       0.0                 1.0   \n",
       "4         BacterialPneumonia/101.jpeg     0.0       0.0                 1.0   \n",
       "...                               ...     ...       ...                 ...   \n",
       "6404  ViralPneumonia/_96_3583409.jpeg     0.0       0.0                 0.0   \n",
       "6405  ViralPneumonia/_97_6809245.jpeg     0.0       0.0                 0.0   \n",
       "6406  ViralPneumonia/_98_7527018.jpeg     0.0       0.0                 0.0   \n",
       "6407  ViralPneumonia/_99_1223038.jpeg     0.0       0.0                 0.0   \n",
       "6408   ViralPneumonia/_9_2549336.jpeg     0.0       0.0                 0.0   \n",
       "\n",
       "      ViralPneumonia  \n",
       "0                0.0  \n",
       "1                0.0  \n",
       "2                0.0  \n",
       "3                0.0  \n",
       "4                0.0  \n",
       "...              ...  \n",
       "6404             1.0  \n",
       "6405             1.0  \n",
       "6406             1.0  \n",
       "6407             1.0  \n",
       "6408             1.0  \n",
       "\n",
       "[6409 rows x 5 columns]"
      ]
     },
     "execution_count": 36,
     "metadata": {},
     "output_type": "execute_result"
    }
   ],
   "source": [
    "data.fillna(0.0)"
   ]
  },
  {
   "cell_type": "code",
   "execution_count": 38,
   "metadata": {},
   "outputs": [],
   "source": [
    "data.to_csv(\"./Dataset/train_data.csv\")"
   ]
  },
  {
   "cell_type": "markdown",
   "metadata": {},
   "source": [
    "### Prepare Val data in csv file"
   ]
  },
  {
   "cell_type": "code",
   "execution_count": 40,
   "metadata": {},
   "outputs": [],
   "source": [
    "# Appending data in a list\n",
    "images = []\n",
    "for folder in os.listdir(\"./ValData\"):\n",
    "    for img in os.listdir(\"./ValData/\"+folder):\n",
    "        images.append(folder+\"/\"+img)"
   ]
  },
  {
   "cell_type": "code",
   "execution_count": 41,
   "metadata": {},
   "outputs": [
    {
     "data": {
      "text/plain": [
       "988"
      ]
     },
     "execution_count": 41,
     "metadata": {},
     "output_type": "execute_result"
    }
   ],
   "source": [
    "len(images)"
   ]
  },
  {
   "cell_type": "code",
   "execution_count": 42,
   "metadata": {},
   "outputs": [
    {
     "data": {
      "text/html": [
       "<div>\n",
       "<style scoped>\n",
       "    .dataframe tbody tr th:only-of-type {\n",
       "        vertical-align: middle;\n",
       "    }\n",
       "\n",
       "    .dataframe tbody tr th {\n",
       "        vertical-align: top;\n",
       "    }\n",
       "\n",
       "    .dataframe thead th {\n",
       "        text-align: right;\n",
       "    }\n",
       "</style>\n",
       "<table border=\"1\" class=\"dataframe\">\n",
       "  <thead>\n",
       "    <tr style=\"text-align: right;\">\n",
       "      <th></th>\n",
       "      <th>Images</th>\n",
       "      <th>Normal</th>\n",
       "      <th>COVID-19</th>\n",
       "      <th>BacterialPneumonia</th>\n",
       "      <th>ViralPneumonia</th>\n",
       "    </tr>\n",
       "  </thead>\n",
       "  <tbody>\n",
       "    <tr>\n",
       "      <th>0</th>\n",
       "      <td>BacterialPneumonia/0.jpeg</td>\n",
       "      <td>NaN</td>\n",
       "      <td>NaN</td>\n",
       "      <td>NaN</td>\n",
       "      <td>NaN</td>\n",
       "    </tr>\n",
       "    <tr>\n",
       "      <th>1</th>\n",
       "      <td>BacterialPneumonia/1.jpeg</td>\n",
       "      <td>NaN</td>\n",
       "      <td>NaN</td>\n",
       "      <td>NaN</td>\n",
       "      <td>NaN</td>\n",
       "    </tr>\n",
       "    <tr>\n",
       "      <th>2</th>\n",
       "      <td>BacterialPneumonia/10.jpeg</td>\n",
       "      <td>NaN</td>\n",
       "      <td>NaN</td>\n",
       "      <td>NaN</td>\n",
       "      <td>NaN</td>\n",
       "    </tr>\n",
       "    <tr>\n",
       "      <th>3</th>\n",
       "      <td>BacterialPneumonia/100.jpeg</td>\n",
       "      <td>NaN</td>\n",
       "      <td>NaN</td>\n",
       "      <td>NaN</td>\n",
       "      <td>NaN</td>\n",
       "    </tr>\n",
       "    <tr>\n",
       "      <th>4</th>\n",
       "      <td>BacterialPneumonia/101.jpeg</td>\n",
       "      <td>NaN</td>\n",
       "      <td>NaN</td>\n",
       "      <td>NaN</td>\n",
       "      <td>NaN</td>\n",
       "    </tr>\n",
       "  </tbody>\n",
       "</table>\n",
       "</div>"
      ],
      "text/plain": [
       "                        Images  Normal  COVID-19  BacterialPneumonia  \\\n",
       "0    BacterialPneumonia/0.jpeg     NaN       NaN                 NaN   \n",
       "1    BacterialPneumonia/1.jpeg     NaN       NaN                 NaN   \n",
       "2   BacterialPneumonia/10.jpeg     NaN       NaN                 NaN   \n",
       "3  BacterialPneumonia/100.jpeg     NaN       NaN                 NaN   \n",
       "4  BacterialPneumonia/101.jpeg     NaN       NaN                 NaN   \n",
       "\n",
       "   ViralPneumonia  \n",
       "0             NaN  \n",
       "1             NaN  \n",
       "2             NaN  \n",
       "3             NaN  \n",
       "4             NaN  "
      ]
     },
     "execution_count": 42,
     "metadata": {},
     "output_type": "execute_result"
    }
   ],
   "source": [
    "val_data = pd.DataFrame({\"Images\": images, \"Normal\": np.nan, \"COVID-19\": np.nan, \"BacterialPneumonia\": np.nan, \n",
    "                     \"ViralPneumonia\": np.nan})\n",
    "val_data.head()"
   ]
  },
  {
   "cell_type": "code",
   "execution_count": 44,
   "metadata": {},
   "outputs": [
    {
     "name": "stderr",
     "output_type": "stream",
     "text": [
      "C:\\Users\\nutan\\anaconda3\\envs\\TensorFlow-GPU\\lib\\site-packages\\ipykernel_launcher.py:3: SettingWithCopyWarning: \n",
      "A value is trying to be set on a copy of a slice from a DataFrame\n",
      "\n",
      "See the caveats in the documentation: https://pandas.pydata.org/pandas-docs/stable/user_guide/indexing.html#returning-a-view-versus-a-copy\n",
      "  This is separate from the ipykernel package so we can avoid doing imports until\n"
     ]
    }
   ],
   "source": [
    "for i in range(len(val_data['Images'])):\n",
    "    category = val_data['Images'][i].split('/')[0]\n",
    "    val_data[category][i] = 1.0"
   ]
  },
  {
   "cell_type": "code",
   "execution_count": 45,
   "metadata": {},
   "outputs": [
    {
     "data": {
      "text/html": [
       "<div>\n",
       "<style scoped>\n",
       "    .dataframe tbody tr th:only-of-type {\n",
       "        vertical-align: middle;\n",
       "    }\n",
       "\n",
       "    .dataframe tbody tr th {\n",
       "        vertical-align: top;\n",
       "    }\n",
       "\n",
       "    .dataframe thead th {\n",
       "        text-align: right;\n",
       "    }\n",
       "</style>\n",
       "<table border=\"1\" class=\"dataframe\">\n",
       "  <thead>\n",
       "    <tr style=\"text-align: right;\">\n",
       "      <th></th>\n",
       "      <th>Images</th>\n",
       "      <th>Normal</th>\n",
       "      <th>COVID-19</th>\n",
       "      <th>BacterialPneumonia</th>\n",
       "      <th>ViralPneumonia</th>\n",
       "    </tr>\n",
       "  </thead>\n",
       "  <tbody>\n",
       "    <tr>\n",
       "      <th>0</th>\n",
       "      <td>BacterialPneumonia/0.jpeg</td>\n",
       "      <td>NaN</td>\n",
       "      <td>NaN</td>\n",
       "      <td>1.0</td>\n",
       "      <td>NaN</td>\n",
       "    </tr>\n",
       "    <tr>\n",
       "      <th>1</th>\n",
       "      <td>BacterialPneumonia/1.jpeg</td>\n",
       "      <td>NaN</td>\n",
       "      <td>NaN</td>\n",
       "      <td>1.0</td>\n",
       "      <td>NaN</td>\n",
       "    </tr>\n",
       "    <tr>\n",
       "      <th>2</th>\n",
       "      <td>BacterialPneumonia/10.jpeg</td>\n",
       "      <td>NaN</td>\n",
       "      <td>NaN</td>\n",
       "      <td>1.0</td>\n",
       "      <td>NaN</td>\n",
       "    </tr>\n",
       "    <tr>\n",
       "      <th>3</th>\n",
       "      <td>BacterialPneumonia/100.jpeg</td>\n",
       "      <td>NaN</td>\n",
       "      <td>NaN</td>\n",
       "      <td>1.0</td>\n",
       "      <td>NaN</td>\n",
       "    </tr>\n",
       "    <tr>\n",
       "      <th>4</th>\n",
       "      <td>BacterialPneumonia/101.jpeg</td>\n",
       "      <td>NaN</td>\n",
       "      <td>NaN</td>\n",
       "      <td>1.0</td>\n",
       "      <td>NaN</td>\n",
       "    </tr>\n",
       "  </tbody>\n",
       "</table>\n",
       "</div>"
      ],
      "text/plain": [
       "                        Images  Normal  COVID-19  BacterialPneumonia  \\\n",
       "0    BacterialPneumonia/0.jpeg     NaN       NaN                 1.0   \n",
       "1    BacterialPneumonia/1.jpeg     NaN       NaN                 1.0   \n",
       "2   BacterialPneumonia/10.jpeg     NaN       NaN                 1.0   \n",
       "3  BacterialPneumonia/100.jpeg     NaN       NaN                 1.0   \n",
       "4  BacterialPneumonia/101.jpeg     NaN       NaN                 1.0   \n",
       "\n",
       "   ViralPneumonia  \n",
       "0             NaN  \n",
       "1             NaN  \n",
       "2             NaN  \n",
       "3             NaN  \n",
       "4             NaN  "
      ]
     },
     "execution_count": 45,
     "metadata": {},
     "output_type": "execute_result"
    }
   ],
   "source": [
    "val_data.head()"
   ]
  },
  {
   "cell_type": "code",
   "execution_count": 46,
   "metadata": {},
   "outputs": [
    {
     "data": {
      "text/html": [
       "<div>\n",
       "<style scoped>\n",
       "    .dataframe tbody tr th:only-of-type {\n",
       "        vertical-align: middle;\n",
       "    }\n",
       "\n",
       "    .dataframe tbody tr th {\n",
       "        vertical-align: top;\n",
       "    }\n",
       "\n",
       "    .dataframe thead th {\n",
       "        text-align: right;\n",
       "    }\n",
       "</style>\n",
       "<table border=\"1\" class=\"dataframe\">\n",
       "  <thead>\n",
       "    <tr style=\"text-align: right;\">\n",
       "      <th></th>\n",
       "      <th>Images</th>\n",
       "      <th>Normal</th>\n",
       "      <th>COVID-19</th>\n",
       "      <th>BacterialPneumonia</th>\n",
       "      <th>ViralPneumonia</th>\n",
       "    </tr>\n",
       "  </thead>\n",
       "  <tbody>\n",
       "    <tr>\n",
       "      <th>0</th>\n",
       "      <td>BacterialPneumonia/0.jpeg</td>\n",
       "      <td>0.0</td>\n",
       "      <td>0.0</td>\n",
       "      <td>1.0</td>\n",
       "      <td>0.0</td>\n",
       "    </tr>\n",
       "    <tr>\n",
       "      <th>1</th>\n",
       "      <td>BacterialPneumonia/1.jpeg</td>\n",
       "      <td>0.0</td>\n",
       "      <td>0.0</td>\n",
       "      <td>1.0</td>\n",
       "      <td>0.0</td>\n",
       "    </tr>\n",
       "    <tr>\n",
       "      <th>2</th>\n",
       "      <td>BacterialPneumonia/10.jpeg</td>\n",
       "      <td>0.0</td>\n",
       "      <td>0.0</td>\n",
       "      <td>1.0</td>\n",
       "      <td>0.0</td>\n",
       "    </tr>\n",
       "    <tr>\n",
       "      <th>3</th>\n",
       "      <td>BacterialPneumonia/100.jpeg</td>\n",
       "      <td>0.0</td>\n",
       "      <td>0.0</td>\n",
       "      <td>1.0</td>\n",
       "      <td>0.0</td>\n",
       "    </tr>\n",
       "    <tr>\n",
       "      <th>4</th>\n",
       "      <td>BacterialPneumonia/101.jpeg</td>\n",
       "      <td>0.0</td>\n",
       "      <td>0.0</td>\n",
       "      <td>1.0</td>\n",
       "      <td>0.0</td>\n",
       "    </tr>\n",
       "    <tr>\n",
       "      <th>...</th>\n",
       "      <td>...</td>\n",
       "      <td>...</td>\n",
       "      <td>...</td>\n",
       "      <td>...</td>\n",
       "      <td>...</td>\n",
       "    </tr>\n",
       "    <tr>\n",
       "      <th>983</th>\n",
       "      <td>ViralPneumonia/95.jpeg</td>\n",
       "      <td>0.0</td>\n",
       "      <td>0.0</td>\n",
       "      <td>0.0</td>\n",
       "      <td>1.0</td>\n",
       "    </tr>\n",
       "    <tr>\n",
       "      <th>984</th>\n",
       "      <td>ViralPneumonia/96.jpeg</td>\n",
       "      <td>0.0</td>\n",
       "      <td>0.0</td>\n",
       "      <td>0.0</td>\n",
       "      <td>1.0</td>\n",
       "    </tr>\n",
       "    <tr>\n",
       "      <th>985</th>\n",
       "      <td>ViralPneumonia/97.jpeg</td>\n",
       "      <td>0.0</td>\n",
       "      <td>0.0</td>\n",
       "      <td>0.0</td>\n",
       "      <td>1.0</td>\n",
       "    </tr>\n",
       "    <tr>\n",
       "      <th>986</th>\n",
       "      <td>ViralPneumonia/98.jpeg</td>\n",
       "      <td>0.0</td>\n",
       "      <td>0.0</td>\n",
       "      <td>0.0</td>\n",
       "      <td>1.0</td>\n",
       "    </tr>\n",
       "    <tr>\n",
       "      <th>987</th>\n",
       "      <td>ViralPneumonia/99.jpeg</td>\n",
       "      <td>0.0</td>\n",
       "      <td>0.0</td>\n",
       "      <td>0.0</td>\n",
       "      <td>1.0</td>\n",
       "    </tr>\n",
       "  </tbody>\n",
       "</table>\n",
       "<p>988 rows × 5 columns</p>\n",
       "</div>"
      ],
      "text/plain": [
       "                          Images  Normal  COVID-19  BacterialPneumonia  \\\n",
       "0      BacterialPneumonia/0.jpeg     0.0       0.0                 1.0   \n",
       "1      BacterialPneumonia/1.jpeg     0.0       0.0                 1.0   \n",
       "2     BacterialPneumonia/10.jpeg     0.0       0.0                 1.0   \n",
       "3    BacterialPneumonia/100.jpeg     0.0       0.0                 1.0   \n",
       "4    BacterialPneumonia/101.jpeg     0.0       0.0                 1.0   \n",
       "..                           ...     ...       ...                 ...   \n",
       "983       ViralPneumonia/95.jpeg     0.0       0.0                 0.0   \n",
       "984       ViralPneumonia/96.jpeg     0.0       0.0                 0.0   \n",
       "985       ViralPneumonia/97.jpeg     0.0       0.0                 0.0   \n",
       "986       ViralPneumonia/98.jpeg     0.0       0.0                 0.0   \n",
       "987       ViralPneumonia/99.jpeg     0.0       0.0                 0.0   \n",
       "\n",
       "     ViralPneumonia  \n",
       "0               0.0  \n",
       "1               0.0  \n",
       "2               0.0  \n",
       "3               0.0  \n",
       "4               0.0  \n",
       "..              ...  \n",
       "983             1.0  \n",
       "984             1.0  \n",
       "985             1.0  \n",
       "986             1.0  \n",
       "987             1.0  \n",
       "\n",
       "[988 rows x 5 columns]"
      ]
     },
     "execution_count": 46,
     "metadata": {},
     "output_type": "execute_result"
    }
   ],
   "source": [
    "val_data.fillna(0.0)"
   ]
  },
  {
   "cell_type": "code",
   "execution_count": 47,
   "metadata": {},
   "outputs": [],
   "source": [
    "val_data.to_csv(\"./Dataset/val_data.csv\")"
   ]
  },
  {
   "cell_type": "code",
   "execution_count": null,
   "metadata": {},
   "outputs": [],
   "source": []
  }
 ],
 "metadata": {
  "kernelspec": {
   "display_name": "Python 3",
   "language": "python",
   "name": "python3"
  },
  "language_info": {
   "codemirror_mode": {
    "name": "ipython",
    "version": 3
   },
   "file_extension": ".py",
   "mimetype": "text/x-python",
   "name": "python",
   "nbconvert_exporter": "python",
   "pygments_lexer": "ipython3",
   "version": "3.7.9"
  }
 },
 "nbformat": 4,
 "nbformat_minor": 4
}
